{
 "cells": [
  {
   "cell_type": "code",
   "execution_count": 1,
   "metadata": {},
   "outputs": [
    {
     "name": "stderr",
     "output_type": "stream",
     "text": [
      "C:\\ProgramData\\Anaconda3\\lib\\importlib\\_bootstrap.py:219: RuntimeWarning: numpy.ufunc size changed, may indicate binary incompatibility. Expected 192 from C header, got 216 from PyObject\n",
      "  return f(*args, **kwds)\n",
      "C:\\ProgramData\\Anaconda3\\lib\\importlib\\_bootstrap.py:219: RuntimeWarning: numpy.ufunc size changed, may indicate binary incompatibility. Expected 192 from C header, got 216 from PyObject\n",
      "  return f(*args, **kwds)\n"
     ]
    },
    {
     "data": {
      "text/html": [
       "<div>\n",
       "<style scoped>\n",
       "    .dataframe tbody tr th:only-of-type {\n",
       "        vertical-align: middle;\n",
       "    }\n",
       "\n",
       "    .dataframe tbody tr th {\n",
       "        vertical-align: top;\n",
       "    }\n",
       "\n",
       "    .dataframe thead th {\n",
       "        text-align: right;\n",
       "    }\n",
       "</style>\n",
       "<table border=\"1\" class=\"dataframe\">\n",
       "  <thead>\n",
       "    <tr style=\"text-align: right;\">\n",
       "      <th></th>\n",
       "      <th>序号</th>\n",
       "      <th>品系</th>\n",
       "      <th>性别</th>\n",
       "      <th>测定日期</th>\n",
       "      <th>出生日期</th>\n",
       "      <th>weight</th>\n",
       "      <th>L</th>\n",
       "      <th>体高</th>\n",
       "      <th>FG</th>\n",
       "      <th>BG</th>\n",
       "      <th>MG</th>\n",
       "    </tr>\n",
       "  </thead>\n",
       "  <tbody>\n",
       "    <tr>\n",
       "      <td>0</td>\n",
       "      <td>4386</td>\n",
       "      <td>美系杜洛克</td>\n",
       "      <td>母</td>\n",
       "      <td>2018-01-03</td>\n",
       "      <td>2017-07-18</td>\n",
       "      <td>108.5</td>\n",
       "      <td>1.18</td>\n",
       "      <td>61</td>\n",
       "      <td>1.05</td>\n",
       "      <td>1.15</td>\n",
       "      <td>1.03</td>\n",
       "    </tr>\n",
       "    <tr>\n",
       "      <td>1</td>\n",
       "      <td>4387</td>\n",
       "      <td>美系杜洛克</td>\n",
       "      <td>母</td>\n",
       "      <td>2018-01-03</td>\n",
       "      <td>2017-07-21</td>\n",
       "      <td>105.0</td>\n",
       "      <td>1.18</td>\n",
       "      <td>61</td>\n",
       "      <td>1.06</td>\n",
       "      <td>1.18</td>\n",
       "      <td>1.05</td>\n",
       "    </tr>\n",
       "    <tr>\n",
       "      <td>2</td>\n",
       "      <td>4388</td>\n",
       "      <td>美系杜洛克</td>\n",
       "      <td>母</td>\n",
       "      <td>2018-01-03</td>\n",
       "      <td>2017-07-21</td>\n",
       "      <td>106.5</td>\n",
       "      <td>1.19</td>\n",
       "      <td>62</td>\n",
       "      <td>1.07</td>\n",
       "      <td>1.15</td>\n",
       "      <td>1.05</td>\n",
       "    </tr>\n",
       "    <tr>\n",
       "      <td>3</td>\n",
       "      <td>4389</td>\n",
       "      <td>美系杜洛克</td>\n",
       "      <td>母</td>\n",
       "      <td>2018-01-03</td>\n",
       "      <td>2017-07-20</td>\n",
       "      <td>105.0</td>\n",
       "      <td>1.18</td>\n",
       "      <td>62</td>\n",
       "      <td>1.06</td>\n",
       "      <td>1.18</td>\n",
       "      <td>1.04</td>\n",
       "    </tr>\n",
       "    <tr>\n",
       "      <td>4</td>\n",
       "      <td>4390</td>\n",
       "      <td>美系杜洛克</td>\n",
       "      <td>母</td>\n",
       "      <td>2018-01-03</td>\n",
       "      <td>2017-07-11</td>\n",
       "      <td>108.8</td>\n",
       "      <td>1.20</td>\n",
       "      <td>63</td>\n",
       "      <td>1.07</td>\n",
       "      <td>1.18</td>\n",
       "      <td>1.04</td>\n",
       "    </tr>\n",
       "  </tbody>\n",
       "</table>\n",
       "</div>"
      ],
      "text/plain": [
       "     序号     品系 性别       测定日期       出生日期  weight     L  体高    FG    BG    MG\n",
       "0  4386  美系杜洛克  母 2018-01-03 2017-07-18   108.5  1.18  61  1.05  1.15  1.03\n",
       "1  4387  美系杜洛克  母 2018-01-03 2017-07-21   105.0  1.18  61  1.06  1.18  1.05\n",
       "2  4388  美系杜洛克  母 2018-01-03 2017-07-21   106.5  1.19  62  1.07  1.15  1.05\n",
       "3  4389  美系杜洛克  母 2018-01-03 2017-07-20   105.0  1.18  62  1.06  1.18  1.04\n",
       "4  4390  美系杜洛克  母 2018-01-03 2017-07-11   108.8  1.20  63  1.07  1.18  1.04"
      ]
     },
     "execution_count": 1,
     "metadata": {},
     "output_type": "execute_result"
    }
   ],
   "source": [
    "from xgboost.sklearn import XGBRegressor\n",
    "from sklearn.svm import SVR\n",
    "from sklearn.ensemble import RandomForestRegressor\n",
    "\n",
    "from sklearn.preprocessing import StandardScaler\n",
    "from sklearn.model_selection import train_test_split\n",
    "from sklearn.model_selection import KFold\n",
    "from sklearn import metrics\n",
    "\n",
    "import pandas as pd\n",
    "import numpy as np\n",
    "\n",
    "from scipy.stats import boxcox\n",
    "\n",
    "data = pd.read_csv('./data/18-20.csv')\n",
    "data['测定日期'] = data['测定日期'].astype('datetime64[D]')\n",
    "data['出生日期'] = data['出生日期'].astype('datetime64[D]')\n",
    "data['测定日期'] = pd.to_datetime(data['测定日期'])\n",
    "data.head()"
   ]
  },
  {
   "cell_type": "code",
   "execution_count": 2,
   "metadata": {},
   "outputs": [
    {
     "data": {
      "text/plain": [
       "(4149, 11)"
      ]
     },
     "execution_count": 2,
     "metadata": {},
     "output_type": "execute_result"
    }
   ],
   "source": [
    "data.shape"
   ]
  },
  {
   "cell_type": "code",
   "execution_count": 3,
   "metadata": {},
   "outputs": [
    {
     "data": {
      "text/html": [
       "<div>\n",
       "<style scoped>\n",
       "    .dataframe tbody tr th:only-of-type {\n",
       "        vertical-align: middle;\n",
       "    }\n",
       "\n",
       "    .dataframe tbody tr th {\n",
       "        vertical-align: top;\n",
       "    }\n",
       "\n",
       "    .dataframe thead th {\n",
       "        text-align: right;\n",
       "    }\n",
       "</style>\n",
       "<table border=\"1\" class=\"dataframe\">\n",
       "  <thead>\n",
       "    <tr style=\"text-align: right;\">\n",
       "      <th></th>\n",
       "      <th>品系</th>\n",
       "      <th>性别</th>\n",
       "      <th>测定日期</th>\n",
       "      <th>出生日期</th>\n",
       "      <th>weight</th>\n",
       "      <th>L</th>\n",
       "      <th>体高</th>\n",
       "      <th>FG</th>\n",
       "      <th>BG</th>\n",
       "      <th>MG</th>\n",
       "    </tr>\n",
       "  </thead>\n",
       "  <tbody>\n",
       "    <tr>\n",
       "      <td>0</td>\n",
       "      <td>0</td>\n",
       "      <td>0</td>\n",
       "      <td>2018-01-03</td>\n",
       "      <td>2017-07-18</td>\n",
       "      <td>108.5</td>\n",
       "      <td>1.18</td>\n",
       "      <td>61</td>\n",
       "      <td>1.05</td>\n",
       "      <td>1.15</td>\n",
       "      <td>1.03</td>\n",
       "    </tr>\n",
       "    <tr>\n",
       "      <td>1</td>\n",
       "      <td>0</td>\n",
       "      <td>0</td>\n",
       "      <td>2018-01-03</td>\n",
       "      <td>2017-07-21</td>\n",
       "      <td>105.0</td>\n",
       "      <td>1.18</td>\n",
       "      <td>61</td>\n",
       "      <td>1.06</td>\n",
       "      <td>1.18</td>\n",
       "      <td>1.05</td>\n",
       "    </tr>\n",
       "    <tr>\n",
       "      <td>2</td>\n",
       "      <td>0</td>\n",
       "      <td>0</td>\n",
       "      <td>2018-01-03</td>\n",
       "      <td>2017-07-21</td>\n",
       "      <td>106.5</td>\n",
       "      <td>1.19</td>\n",
       "      <td>62</td>\n",
       "      <td>1.07</td>\n",
       "      <td>1.15</td>\n",
       "      <td>1.05</td>\n",
       "    </tr>\n",
       "    <tr>\n",
       "      <td>3</td>\n",
       "      <td>0</td>\n",
       "      <td>0</td>\n",
       "      <td>2018-01-03</td>\n",
       "      <td>2017-07-20</td>\n",
       "      <td>105.0</td>\n",
       "      <td>1.18</td>\n",
       "      <td>62</td>\n",
       "      <td>1.06</td>\n",
       "      <td>1.18</td>\n",
       "      <td>1.04</td>\n",
       "    </tr>\n",
       "    <tr>\n",
       "      <td>4</td>\n",
       "      <td>0</td>\n",
       "      <td>0</td>\n",
       "      <td>2018-01-03</td>\n",
       "      <td>2017-07-11</td>\n",
       "      <td>108.8</td>\n",
       "      <td>1.20</td>\n",
       "      <td>63</td>\n",
       "      <td>1.07</td>\n",
       "      <td>1.18</td>\n",
       "      <td>1.04</td>\n",
       "    </tr>\n",
       "    <tr>\n",
       "      <td>...</td>\n",
       "      <td>...</td>\n",
       "      <td>...</td>\n",
       "      <td>...</td>\n",
       "      <td>...</td>\n",
       "      <td>...</td>\n",
       "      <td>...</td>\n",
       "      <td>...</td>\n",
       "      <td>...</td>\n",
       "      <td>...</td>\n",
       "      <td>...</td>\n",
       "    </tr>\n",
       "    <tr>\n",
       "      <td>4144</td>\n",
       "      <td>1</td>\n",
       "      <td>0</td>\n",
       "      <td>2020-02-21</td>\n",
       "      <td>2019-08-25</td>\n",
       "      <td>106.3</td>\n",
       "      <td>1.18</td>\n",
       "      <td>63</td>\n",
       "      <td>1.07</td>\n",
       "      <td>1.18</td>\n",
       "      <td>1.06</td>\n",
       "    </tr>\n",
       "    <tr>\n",
       "      <td>4145</td>\n",
       "      <td>1</td>\n",
       "      <td>0</td>\n",
       "      <td>2020-02-21</td>\n",
       "      <td>2019-08-25</td>\n",
       "      <td>110.4</td>\n",
       "      <td>1.20</td>\n",
       "      <td>64</td>\n",
       "      <td>1.06</td>\n",
       "      <td>1.14</td>\n",
       "      <td>1.03</td>\n",
       "    </tr>\n",
       "    <tr>\n",
       "      <td>4146</td>\n",
       "      <td>1</td>\n",
       "      <td>0</td>\n",
       "      <td>2020-02-21</td>\n",
       "      <td>2019-08-25</td>\n",
       "      <td>111.7</td>\n",
       "      <td>1.17</td>\n",
       "      <td>63</td>\n",
       "      <td>1.09</td>\n",
       "      <td>1.18</td>\n",
       "      <td>1.07</td>\n",
       "    </tr>\n",
       "    <tr>\n",
       "      <td>4147</td>\n",
       "      <td>1</td>\n",
       "      <td>0</td>\n",
       "      <td>2020-02-21</td>\n",
       "      <td>2019-08-24</td>\n",
       "      <td>107.6</td>\n",
       "      <td>1.20</td>\n",
       "      <td>64</td>\n",
       "      <td>1.06</td>\n",
       "      <td>1.14</td>\n",
       "      <td>1.04</td>\n",
       "    </tr>\n",
       "    <tr>\n",
       "      <td>4148</td>\n",
       "      <td>1</td>\n",
       "      <td>0</td>\n",
       "      <td>2020-02-21</td>\n",
       "      <td>2019-08-24</td>\n",
       "      <td>103.7</td>\n",
       "      <td>1.19</td>\n",
       "      <td>64</td>\n",
       "      <td>1.07</td>\n",
       "      <td>1.15</td>\n",
       "      <td>1.03</td>\n",
       "    </tr>\n",
       "  </tbody>\n",
       "</table>\n",
       "<p>4149 rows × 10 columns</p>\n",
       "</div>"
      ],
      "text/plain": [
       "      品系  性别       测定日期       出生日期  weight     L  体高    FG    BG    MG\n",
       "0      0   0 2018-01-03 2017-07-18   108.5  1.18  61  1.05  1.15  1.03\n",
       "1      0   0 2018-01-03 2017-07-21   105.0  1.18  61  1.06  1.18  1.05\n",
       "2      0   0 2018-01-03 2017-07-21   106.5  1.19  62  1.07  1.15  1.05\n",
       "3      0   0 2018-01-03 2017-07-20   105.0  1.18  62  1.06  1.18  1.04\n",
       "4      0   0 2018-01-03 2017-07-11   108.8  1.20  63  1.07  1.18  1.04\n",
       "...   ..  ..        ...        ...     ...   ...  ..   ...   ...   ...\n",
       "4144   1   0 2020-02-21 2019-08-25   106.3  1.18  63  1.07  1.18  1.06\n",
       "4145   1   0 2020-02-21 2019-08-25   110.4  1.20  64  1.06  1.14  1.03\n",
       "4146   1   0 2020-02-21 2019-08-25   111.7  1.17  63  1.09  1.18  1.07\n",
       "4147   1   0 2020-02-21 2019-08-24   107.6  1.20  64  1.06  1.14  1.04\n",
       "4148   1   0 2020-02-21 2019-08-24   103.7  1.19  64  1.07  1.15  1.03\n",
       "\n",
       "[4149 rows x 10 columns]"
      ]
     },
     "execution_count": 3,
     "metadata": {},
     "output_type": "execute_result"
    }
   ],
   "source": [
    "if(data.shape[1]==11):\n",
    "    data = data.drop(['序号'],axis=1)\n",
    "    \n",
    "class_map = {'美系杜洛克':0,'台系杜洛克':1}\n",
    "data['品系'] = data['品系'].map(class_map)\n",
    "sex_map = {'母':0, '公':1}\n",
    "data['性别'] = data['性别'].map(sex_map)\n",
    "w = data['weight']\n",
    "\n",
    "\n",
    "data"
   ]
  },
  {
   "cell_type": "code",
   "execution_count": 32,
   "metadata": {},
   "outputs": [
    {
     "data": {
      "text/plain": [
       "100.0    172\n",
       "105.0     87\n",
       "100.5     84\n",
       "100.3     84\n",
       "105.3     73\n",
       "100.2     71\n",
       "110.2     66\n",
       "101.2     62\n",
       "105.2     60\n",
       "102.3     57\n",
       "100.7     57\n",
       "105.7     56\n",
       "101.3     56\n",
       "110.5     55\n",
       "105.6     52\n",
       "101.5     51\n",
       "110.3     48\n",
       "100.1     46\n",
       "101.0     46\n",
       "106.3     45\n",
       "101.7     42\n",
       "101.4     42\n",
       "100.4     41\n",
       "112.3     40\n",
       "111.5     39\n",
       "110.7     39\n",
       "110.0     38\n",
       "113.5     38\n",
       "103.5     35\n",
       "106.5     33\n",
       "Name: weight, dtype: int64"
      ]
     },
     "execution_count": 32,
     "metadata": {},
     "output_type": "execute_result"
    }
   ],
   "source": [
    "data['weight'].value_counts().head(30)"
   ]
  },
  {
   "cell_type": "code",
   "execution_count": 29,
   "metadata": {},
   "outputs": [
    {
     "data": {
      "image/png": "[encoded data removed]",
      "text/plain": [
       "<Figure size 432x288 with 1 Axes>"
      ]
     },
     "metadata": {
      "needs_background": "light"
     },
     "output_type": "display_data"
    }
   ],
   "source": [
    "import matplotlib.pyplot as plt\n",
    "\n",
    "www = data['weight'].values\n",
    "pc = np.linspace(89.5,159.5,56)\n",
    "plt.hist(www,pc)\n",
    "# plt.xticks(range(90,160,)\n",
    "plt.show()"
   ]
  },
  {
   "cell_type": "code",
   "execution_count": 4,
   "metadata": {},
   "outputs": [
    {
     "data": {
      "text/plain": [
       "<bound method DataFrame.info of       品系  性别       测定日期       出生日期  weight     L  体高    FG    BG    MG   年龄\n",
       "0      0   0 2018-01-03 2017-07-18   108.5  1.18  61  1.05  1.15  1.03  169\n",
       "1      0   0 2018-01-03 2017-07-21   105.0  1.18  61  1.06  1.18  1.05  166\n",
       "2      0   0 2018-01-03 2017-07-21   106.5  1.19  62  1.07  1.15  1.05  166\n",
       "3      0   0 2018-01-03 2017-07-20   105.0  1.18  62  1.06  1.18  1.04  167\n",
       "4      0   0 2018-01-03 2017-07-11   108.8  1.20  63  1.07  1.18  1.04  176\n",
       "...   ..  ..        ...        ...     ...   ...  ..   ...   ...   ...  ...\n",
       "4144   1   0 2020-02-21 2019-08-25   106.3  1.18  63  1.07  1.18  1.06  180\n",
       "4145   1   0 2020-02-21 2019-08-25   110.4  1.20  64  1.06  1.14  1.03  180\n",
       "4146   1   0 2020-02-21 2019-08-25   111.7  1.17  63  1.09  1.18  1.07  180\n",
       "4147   1   0 2020-02-21 2019-08-24   107.6  1.20  64  1.06  1.14  1.04  181\n",
       "4148   1   0 2020-02-21 2019-08-24   103.7  1.19  64  1.07  1.15  1.03  181\n",
       "\n",
       "[4149 rows x 11 columns]>"
      ]
     },
     "execution_count": 4,
     "metadata": {},
     "output_type": "execute_result"
    }
   ],
   "source": [
    "df = (data['测定日期']-data['出生日期'])\n",
    "df.name = '年龄'\n",
    "df = df.dt.days\n",
    "\n",
    "data = data.join(df)\n",
    "data.info\n"
   ]
  },
  {
   "cell_type": "code",
   "execution_count": 52,
   "metadata": {},
   "outputs": [
    {
     "data": {
      "text/plain": [
       "3764"
      ]
     },
     "execution_count": 52,
     "metadata": {},
     "output_type": "execute_result"
    }
   ],
   "source": [
    "x = data.drop('测定日期',axis=1)\n",
    "x = x.drop('出生日期',axis =1)\n",
    "\n",
    "x = x.drop('weight',axis=1)\n",
    "\n",
    "x = x.values\n",
    "w = w.values\n",
    "ww = []\n",
    "xx = []\n",
    "\n",
    "for i in range(len(w)):\n",
    "    if abs(w[i]-100.1) > 0.1 and abs(w[i]-105.1) > 0.1 and abs(w[i]-110.1) > 0.1:\n",
    "        ww.append(w[i])\n",
    "        xx.append(x[i])\n",
    "        \n",
    "x = pd.DataFrame(x)\n",
    "w = pd.DataFrame(w)\n",
    "ww = np.array(ww)\n",
    "xx = np.array(xx)\n",
    "len(xx)"
   ]
  },
  {
   "cell_type": "code",
   "execution_count": 53,
   "metadata": {},
   "outputs": [],
   "source": [
    "# y_train, y_test, x_train, x_test = train_test_split(y, data, test_size=0.1)\n",
    "y_train, y_test, x_train, x_test = train_test_split(ww, xx, test_size=0.1)\n",
    "\n",
    "ss_x = StandardScaler()\n",
    "ss_y = StandardScaler()\n",
    "\n",
    "x_train = ss_x.fit_transform(x_train)\n",
    "x_test = ss_x.transform(x_test)\n",
    "y_train = ss_y.fit_transform(y_train.reshape(-1,1))\n",
    "y_test = ss_y.transform(y_test.reshape(-1,1))"
   ]
  },
  {
   "cell_type": "code",
   "execution_count": 87,
   "metadata": {},
   "outputs": [
    {
     "name": "stdout",
     "output_type": "stream",
     "text": [
      "Fitting 5 folds for each of 5 candidates, totalling 25 fits\n"
     ]
    },
    {
     "name": "stderr",
     "output_type": "stream",
     "text": [
      "[Parallel(n_jobs=3)]: Using backend LokyBackend with 3 concurrent workers.\n",
      "[Parallel(n_jobs=3)]: Done  25 out of  25 | elapsed:   20.6s finished\n",
      "C:\\ProgramData\\Anaconda3\\lib\\site-packages\\sklearn\\model_selection\\_search.py:715: DataConversionWarning: A column-vector y was passed when a 1d array was expected. Please change the shape of y to (n_samples,), for example using ravel().\n",
      "  self.best_estimator_.fit(X, y, **fit_params)\n"
     ]
    },
    {
     "data": {
      "text/plain": [
       "RandomizedSearchCV(cv=5, error_score='raise-deprecating',\n",
       "                   estimator=RandomForestRegressor(bootstrap=True,\n",
       "                                                   criterion='mse',\n",
       "                                                   max_depth=None,\n",
       "                                                   max_features='auto',\n",
       "                                                   max_leaf_nodes=None,\n",
       "                                                   min_impurity_decrease=0.0,\n",
       "                                                   min_impurity_split=None,\n",
       "                                                   min_samples_leaf=1,\n",
       "                                                   min_samples_split=2,\n",
       "                                                   min_weight_fraction_leaf=0.0,\n",
       "                                                   n_estimators='warn',\n",
       "                                                   n_jobs=None, oob_score=False,\n",
       "                                                   random_state=15, verbose=0,\n",
       "                                                   warm_start=False),\n",
       "                   iid='warn', n_iter=5, n_jobs=3,\n",
       "                   param_distributions={'min_samples_leaf': range(1, 20, 3),\n",
       "                                        'min_samples_split': range(2, 20, 2),\n",
       "                                        'n_estimators': range(100, 600, 100)},\n",
       "                   pre_dispatch='2*n_jobs', random_state=15, refit=True,\n",
       "                   return_train_score=False, scoring=None, verbose=2)"
      ]
     },
     "execution_count": 87,
     "metadata": {},
     "output_type": "execute_result"
    }
   ],
   "source": [
    "from sklearn.model_selection import RandomizedSearchCV\n",
    "\n",
    "rs = 15\n",
    "\n",
    "rf = RandomForestRegressor(random_state = rs)\n",
    "\n",
    "# Number of trees in random forest\n",
    "n_estimators = [100,150, 200, 250, 300, 350, 450, 550]\n",
    "\n",
    "# Minimum number of samples required to split a node\n",
    "min_samples_split = [2,4,6,8,10,12,14]\n",
    "\n",
    "# Minimum number of samples required at each leaf node\n",
    "min_samples_leaf = [1, 2, 4, 6]\n",
    "\n",
    "# Create the random grid\n",
    "random_grid = {'n_estimators': range(100,600,100),\n",
    "               'min_samples_split': range(2,20,2),\n",
    "               'min_samples_leaf': range(1,20,3)}\n",
    "\n",
    "rf_randomsearch = RandomizedSearchCV(estimator = rf,\n",
    "                               param_distributions = random_grid,\n",
    "                               n_iter = 5,\n",
    "                               cv = 5,\n",
    "                               verbose = 2,\n",
    "                               random_state = rs,\n",
    "                               n_jobs = 3)\n",
    "\n",
    "rf_randomsearch.fit(x_train, y_train)"
   ]
  },
  {
   "cell_type": "code",
   "execution_count": 88,
   "metadata": {},
   "outputs": [
    {
     "data": {
      "text/plain": [
       "{'n_estimators': 300, 'min_samples_split': 2, 'min_samples_leaf': 4}"
      ]
     },
     "execution_count": 88,
     "metadata": {},
     "output_type": "execute_result"
    }
   ],
   "source": [
    "rf_randomsearch.best_params_"
   ]
  },
  {
   "cell_type": "code",
   "execution_count": 98,
   "metadata": {},
   "outputs": [
    {
     "name": "stderr",
     "output_type": "stream",
     "text": [
      "C:\\ProgramData\\Anaconda3\\lib\\site-packages\\ipykernel_launcher.py:16: DataConversionWarning: A column-vector y was passed when a 1d array was expected. Please change the shape of y to (n_samples,), for example using ravel().\n",
      "  app.launch_new_instance()\n"
     ]
    },
    {
     "name": "stdout",
     "output_type": "stream",
     "text": [
      "0.7443278729024119\n",
      "10.863924058313941\n",
      "2.3120309708288835\n"
     ]
    }
   ],
   "source": [
    "# from sklearn.model_selection import GridSearchCV\n",
    "# from sklearn.metrics import make_scorer\n",
    "\n",
    "\n",
    "# model = XGBRegressor()\n",
    "model = RandomForestRegressor(n_estimators=300,min_samples_leaf=4,min_samples_split=2)\n",
    "\n",
    "# 网格搜索\n",
    "\n",
    "# parameters = {'kernel':['rbf','poly'],'gamma':[i/5 for i in range(1,3)]}\n",
    "# scorer = make_scorer(metrics.mean_squared_error)\n",
    "# grid_obj = GridSearchCV(model, parameters,scoring=scorer, cv = 3)\n",
    "# grid_fit = grid_obj.fit(x_train,y_train)\n",
    "# best_md = grid_fit.best_estimator_\n",
    "\n",
    "model.fit(x_train, y_train)\n",
    "y_pred = model.predict(x_test)\n",
    "print(metrics.r2_score(ss_y.inverse_transform(y_test), ss_y.inverse_transform(y_pred)))\n",
    "print(metrics.mean_squared_error(ss_y.inverse_transform(y_test), ss_y.inverse_transform(y_pred)))\n",
    "print(metrics.mean_absolute_error(ss_y.inverse_transform(y_test), ss_y.inverse_transform(y_pred)))"
   ]
  },
  {
   "cell_type": "code",
   "execution_count": 10,
   "metadata": {},
   "outputs": [],
   "source": [
    "RandomForestRegressor?"
   ]
  }
 ],
 "metadata": {
  "kernelspec": {
   "display_name": "Python 3",
   "language": "python",
   "name": "python3"
  },
  "language_info": {
   "codemirror_mode": {
    "name": "ipython",
    "version": 3
   },
   "file_extension": ".py",
   "mimetype": "text/x-python",
   "name": "python",
   "nbconvert_exporter": "python",
   "pygments_lexer": "ipython3",
   "version": "3.7.4"
  }
 },
 "nbformat": 4,
 "nbformat_minor": 2
}
