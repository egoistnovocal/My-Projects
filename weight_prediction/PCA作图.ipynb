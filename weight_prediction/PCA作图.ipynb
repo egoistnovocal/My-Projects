{
 "cells": [
  {
   "cell_type": "code",
   "execution_count": null,
   "metadata": {},
   "outputs": [
    {
     "name": "stdout",
     "output_type": "stream",
     "text": [
      "PCA\n",
      "2.840030305940164\n",
      "3.583513293441894\n",
      "0.97627906102358\n",
      "PCA\n",
      "3.0714248609316837\n",
      "3.7461468374206204\n",
      "0.9740771092664465\n"
     ]
    },
    {
     "data": {
      "text/plain": [
       "<Figure size 4000x12000 with 0 Axes>"
      ]
     },
     "metadata": {},
     "output_type": "display_data"
    },
    {
     "data": {
      "image/png": "[encoded data removed]",
      "text/plain": [
       "<Figure size 432x432 with 1 Axes>"
      ]
     },
     "metadata": {
      "needs_background": "light"
     },
     "output_type": "display_data"
    }
   ],
   "source": [
    "import pandas as pd\n",
    "import numpy as np\n",
    "import matplotlib.pyplot as plt\n",
    "from scikitplot.decomposition import plot_pca_component_variance\n",
    "\n",
    "from sklearn.model_selection import train_test_split\n",
    "from sklearn.preprocessing import StandardScaler, MinMaxScaler\n",
    "\n",
    "from sklearn.linear_model import LinearRegression\n",
    "from sklearn.decomposition import PCA\n",
    "from sklearn.ensemble import GradientBoostingRegressor\n",
    "from sklearn.ensemble import RandomForestRegressor\n",
    "from xgboost.sklearn import XGBRegressor\n",
    "from sklearn.svm import SVR\n",
    "\n",
    "import statsmodels.api as sm\n",
    "from sklearn.metrics import r2_score,mean_absolute_error,mean_squared_error\n",
    "\n",
    "# from helper_functions import show_images, do_pca, scree_plot, plot_component\n",
    "\n",
    "fig = plt.figure(figsize=(20,60),dpi=200)\n",
    "\n",
    "df = pd.read_csv('data/test6.csv')\n",
    "# print(df.columns.values)\n",
    "l = df['BL']\n",
    "g = np.array([])\n",
    "y = []\n",
    "\n",
    "def scree_plot(pca):\n",
    "    '''\n",
    "    Creates a scree plot associated with the principal components \n",
    "    \n",
    "    INPUT: pca - the result of instantian of PCA in scikit learn\n",
    "            \n",
    "    OUTPUT:\n",
    "            None\n",
    "    '''\n",
    "    num_components=len(pca.explained_variance_ratio_)\n",
    "    ind = np.arange(1,num_components+1)\n",
    "    vals = pca.explained_variance_ratio_\n",
    " \n",
    "    plt.figure(figsize=(6, 6))\n",
    "    ax = plt.subplot(111)\n",
    "    cumvals = np.cumsum(vals)\n",
    "    ax.bar(ind, vals)\n",
    "    ax.plot(ind, cumvals)\n",
    "    for i in range(num_components):\n",
    "        ax.annotate(r\"%s%%\" % ((str(vals[i]*100)[:4])), (ind[i]+0.2, vals[i]), va=\"bottom\", ha=\"center\", fontsize=12)\n",
    " \n",
    "    ax.xaxis.set_tick_params(width=0)\n",
    "    ax.yaxis.set_tick_params(width=2, length=12)\n",
    " \n",
    "    ax.set_xlabel(\"Principal Component\")\n",
    "    ax.set_ylabel(\"Variance Explained (%)\")\n",
    "    plt.title('Explained Variance Per Principal Component')\n",
    "\n",
    "for i in range(5,7):\n",
    "    g = df[df.columns.values[:i+1]]\n",
    "    # print(g.name)\n",
    "    # g*=g*l\n",
    "    ww = df[df.columns.values[-1]]\n",
    "    # for i in range(1,10):\n",
    "    #     g.append(df[df.columns[i]])\n",
    "\n",
    "    x_train,x_test,y_train,y_test = train_test_split(g,ww,test_size=0.2, random_state=15)\n",
    "\n",
    "    ss_x = StandardScaler()\n",
    "    ss_y = StandardScaler()\n",
    "\n",
    "    x_train = ss_x.fit_transform(x_train)\n",
    "    x_test = ss_x.transform(x_test)\n",
    "    y_train = ss_y.fit_transform(y_train.values.reshape(-1,1))\n",
    "    y_test = ss_y.transform(y_test.values.reshape(-1,1))\n",
    "\n",
    "    pca = PCA(n_components='mle')\n",
    "\n",
    "\n",
    "    pca.fit(x_train)\n",
    "    if(i>0):\n",
    "        x_train = pca.transform(x_train)\n",
    "\n",
    "    l_model = LinearRegression()\n",
    "    l_model.fit(x_train,y_train)\n",
    "    if(i>0):\n",
    "        y_pred = l_model.predict(pca.transform(x_test))\n",
    "    else:\n",
    "        y_pred = l_model.predict(x_test)\n",
    "    print('PCA')\n",
    "    print(mean_absolute_error(ss_y.inverse_transform(y_test),ss_y.inverse_transform(y_pred)))\n",
    "    print(mean_squared_error(ss_y.inverse_transform(y_test),ss_y.inverse_transform(y_pred))**0.5)\n",
    "    print(r2_score(y_test,y_pred))\n",
    "    \n",
    "    scree_plot(pca)\n",
    "    \n",
    "#     plot_pca_component_variance(pca, target_explained_variance=0.9)\n",
    "#     x_ticks_label = ['{}'.format(j+1) for j in range(len(g))]\n",
    "#     plt.xticks(x,x_ticks_label,rotation=45)\n",
    "#     plt.show()\n",
    "\n",
    "# print(r2_score(ss_y.inverse_transform(y_test),ss_y.inverse_transform(y_pred)))\n",
    "\n",
    "    \n"
   ]
  },
  {
   "cell_type": "code",
   "execution_count": 4,
   "metadata": {},
   "outputs": [
    {
     "name": "stdout",
     "output_type": "stream",
     "text": [
      "Object `set_tick_params` not found.\n"
     ]
    }
   ],
   "source": [
    "set_tick_params?"
   ]
  }
 ],
 "metadata": {
  "kernelspec": {
   "display_name": "Python 3",
   "language": "python",
   "name": "python3"
  },
  "language_info": {
   "codemirror_mode": {
    "name": "ipython",
    "version": 3
   },
   "file_extension": ".py",
   "mimetype": "text/x-python",
   "name": "python",
   "nbconvert_exporter": "python",
   "pygments_lexer": "ipython3",
   "version": "3.7.4"
  }
 },
 "nbformat": 4,
 "nbformat_minor": 2
}
